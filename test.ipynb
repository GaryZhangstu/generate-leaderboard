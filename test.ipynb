{
 "cells": [
  {
   "cell_type": "code",
   "id": "initial_id",
   "metadata": {
    "collapsed": true,
    "ExecuteTime": {
     "end_time": "2024-06-21T12:10:55.168431Z",
     "start_time": "2024-06-21T12:10:55.158189Z"
    }
   },
   "source": [
    "import pandas as pd\n",
    "\n",
    "# 假设您的 DataFrame 是这样的\n",
    "data = {\n",
    "    'model_a': ['model_b', 'model_d', 'model_b', 'model_f', 'model_e', 'model_e', 'model_f', 'model_a', 'model_e', 'model_a'],\n",
    "    'model_b': ['model_b', 'model_a', 'model_d', 'model_c', 'model_c', 'model_e', 'model_f', 'model_c', 'model_e', 'model_b'],\n",
    "    'winner': ['tie', 'model_a', 'tie', 'tie', 'tie', 'model_b', 'tie (bothbad)', 'model_a', 'tie', 'tie'],\n",
    "    'anony': [False, False, False, False, False, False, False, False, False, False],\n",
    "    'language': ['English', 'English', 'English', 'English', 'English', 'English', 'English', 'English', 'English', 'English'],\n",
    "    'tstamp': [1687347574, 1687347574, 1687433974, 1687520374, 1687520374, 1718883574, 1718883574, 1718883574, 1718883574, 1718883574]\n",
    "}\n",
    "\n",
    "df = pd.DataFrame(data)\n",
    "print(df)\n",
    "# 定义 filter_func\n",
    "filter_func = lambda x: x['language'] == 'English'\n",
    "\n",
    "# 应用 filter_func 到整个 DataFrame，按行应用\n",
    "filtered_indices = df.apply(filter_func, axis=1)\n",
    "\n",
    "# 打印符合条件的行\n",
    "filtered_df = df[filtered_indices]\n",
    "print(filtered_df)\n"
   ],
   "outputs": [
    {
     "name": "stdout",
     "output_type": "stream",
     "text": [
      "   model_a  model_b         winner  anony language      tstamp\n",
      "0  model_b  model_b            tie  False  English  1687347574\n",
      "1  model_d  model_a        model_a  False  English  1687347574\n",
      "2  model_b  model_d            tie  False  English  1687433974\n",
      "3  model_f  model_c            tie  False  English  1687520374\n",
      "4  model_e  model_c            tie  False  English  1687520374\n",
      "5  model_e  model_e        model_b  False  English  1718883574\n",
      "6  model_f  model_f  tie (bothbad)  False  English  1718883574\n",
      "7  model_a  model_c        model_a  False  English  1718883574\n",
      "8  model_e  model_e            tie  False  English  1718883574\n",
      "9  model_a  model_b            tie  False  English  1718883574\n",
      "   model_a  model_b         winner  anony language      tstamp\n",
      "0  model_b  model_b            tie  False  English  1687347574\n",
      "1  model_d  model_a        model_a  False  English  1687347574\n",
      "2  model_b  model_d            tie  False  English  1687433974\n",
      "3  model_f  model_c            tie  False  English  1687520374\n",
      "4  model_e  model_c            tie  False  English  1687520374\n",
      "5  model_e  model_e        model_b  False  English  1718883574\n",
      "6  model_f  model_f  tie (bothbad)  False  English  1718883574\n",
      "7  model_a  model_c        model_a  False  English  1718883574\n",
      "8  model_e  model_e            tie  False  English  1718883574\n",
      "9  model_a  model_b            tie  False  English  1718883574\n"
     ]
    }
   ],
   "execution_count": 2
  },
  {
   "metadata": {},
   "cell_type": "code",
   "outputs": [],
   "execution_count": null,
   "source": "",
   "id": "6120e1ba2d21fb3e"
  }
 ],
 "metadata": {
  "kernelspec": {
   "display_name": "Python 3",
   "language": "python",
   "name": "python3"
  },
  "language_info": {
   "codemirror_mode": {
    "name": "ipython",
    "version": 2
   },
   "file_extension": ".py",
   "mimetype": "text/x-python",
   "name": "python",
   "nbconvert_exporter": "python",
   "pygments_lexer": "ipython2",
   "version": "2.7.6"
  }
 },
 "nbformat": 4,
 "nbformat_minor": 5
}
